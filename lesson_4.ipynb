{
 "cells": [
  {
   "cell_type": "code",
   "execution_count": 1,
   "id": "a770f5cc",
   "metadata": {},
   "outputs": [],
   "source": [
    "from bs4 import BeautifulSoup as bs\n",
    "import requests\n",
    "import re\n",
    "from time import sleep"
   ]
  },
  {
   "cell_type": "code",
   "execution_count": 2,
   "id": "880a048b",
   "metadata": {},
   "outputs": [],
   "source": [
    "USER_AGENT = 'Mozilla/5.0 (Windows NT 10.0; Win64; x64) AppleWebKit/537.36 (KHTML, like Gecko) Chrome/104.0.0.0 Safari/537.36'\n",
    "\n",
    "URL_FIRST_PAGE_HH = 'https://hh.ru/search/vacancy?area=68&search_field=name&search_field=company_name&search_field=description&text=аналитик+баз+данных&no_magic=true&L_save_area=true&items_on_page=20'\n"
   ]
  },
  {
   "cell_type": "code",
   "execution_count": 3,
   "id": "a5ed1138",
   "metadata": {},
   "outputs": [],
   "source": [
    "headers = {\n",
    "    'User-Agent': USER_AGENT,\n",
    "}"
   ]
  },
  {
   "cell_type": "code",
   "execution_count": 4,
   "id": "9c2934c4",
   "metadata": {},
   "outputs": [],
   "source": [
    "def parse_hh(url_page, headers, result=[], index_page=1):\n",
    "    response = requests.get(url_page, headers=headers)\n",
    "    if response.status_code != 200:\n",
    "        print('Парсинг завершен')\n",
    "        return result\n",
    "    else:\n",
    "        print('Cтраница №%d, ссылка: %s'%(index_page, response.url))\n",
    "\n",
    "    dom = bs(response.content, 'html.parser')\n",
    "    vacancies = dom.find_all('div', {'class': 'vacancy-serp-item__layout'})\n",
    "    for vacancy in vacancies:\n",
    "        result.append(parse_vacancy_hh(vacancy))\n",
    "\n",
    "    link_next_page = dom.find('a', {'data-qa': 'pager-next'})\n",
    "    if link_next_page:\n",
    "        link_next_page =  'https://hh.ru' + link_next_page['href']\n",
    "    else:\n",
    "        print('Парсинг завершен')\n",
    "        return result\n",
    "\n",
    "    result = parse_hh(link_next_page, headers, result, index_page+1)   \n",
    "    return result\n",
    "\n",
    "def parse_vacancy_hh(dom_vacancy):\n",
    "    sleep(0.1)\n",
    "\n",
    "    vacancy_name = dom_vacancy.find('a', {'class': 'serp-item__title'}).getText()\n",
    "    \n",
    "    vacancy_salary = dom_vacancy.find('span', {'data-qa': 'vacancy-serp__vacancy-compensation'})\n",
    "    if vacancy_salary:\n",
    "        vacancy_salary = vacancy_salary.text.replace('\\u202f', '')\n",
    "        min_salary, max_salary, currency_salary = clean_salary(vacancy_salary)\n",
    "    else:\n",
    "        min_salary, max_salary, currency_salary = None, None, None \n",
    "        \n",
    "    vacancy_link = dom_vacancy.find('a', {'class': 'serp-item__title'})['href']\n",
    "                \n",
    "    return {\n",
    "        'vacancy_name': vacancy_name,\n",
    "        'vacancy_salary': vacancy_salary,\n",
    "        'min_salary': min_salary,\n",
    "        'max_salary': max_salary,\n",
    "        'currency_salary': currency_salary,\n",
    "        'vacancy_link': vacancy_link,\n",
    "        'vacancy_source': 'hh.ru',\n",
    "    }\n",
    "\n",
    "def clean_salary(vacancy_salary_text, min_salary=None, max_salary=None, currency_salary=None):\n",
    "    list_salary = vacancy_salary_text.replace('\\u202f', '').split()\n",
    "    for i in range(len(list_salary) - 1):\n",
    "        if list_salary[i] == 'от':\n",
    "            min_salary = int(list_salary[i + 1])\n",
    "        elif list_salary[i] == 'до':\n",
    "            max_salary = int(list_salary[i + 1])\n",
    "        elif list_salary[i] == '–':\n",
    "            min_salary = int(list_salary[i - 1])\n",
    "            max_salary = int(list_salary[i + 1])\n",
    "    currency_salary = list_salary[-1]\n",
    "\n",
    "    return min_salary, max_salary, currency_salary\n",
    "  "
   ]
  },
  {
   "cell_type": "code",
   "execution_count": 5,
   "id": "b4389d6e",
   "metadata": {},
   "outputs": [
    {
     "name": "stdout",
     "output_type": "stream",
     "text": [
      "Cтраница №1, ссылка: https://hh.ru/search/vacancy?area=68&search_field=name&search_field=company_name&search_field=description&text=%D0%B0%D0%BD%D0%B0%D0%BB%D0%B8%D1%82%D0%B8%D0%BA+%D0%B1%D0%B0%D0%B7+%D0%B4%D0%B0%D0%BD%D0%BD%D1%8B%D1%85&no_magic=true&L_save_area=true&items_on_page=20\n",
      "Парсинг завершен\n"
     ]
    }
   ],
   "source": [
    "result = parse_hh(URL_FIRST_PAGE_HH, headers)"
   ]
  },
  {
   "cell_type": "code",
   "execution_count": 6,
   "id": "d032c8ff",
   "metadata": {},
   "outputs": [
    {
     "data": {
      "text/plain": [
       "11"
      ]
     },
     "execution_count": 6,
     "metadata": {},
     "output_type": "execute_result"
    }
   ],
   "source": [
    "len(result)"
   ]
  },
  {
   "cell_type": "code",
   "execution_count": 7,
   "id": "bcaaf60b",
   "metadata": {
    "scrolled": true
   },
   "outputs": [
    {
     "data": {
      "text/plain": [
       "[{'vacancy_name': 'ГИС программист (разработка/аналитика/системное администрирование)',\n",
       "  'vacancy_salary': '90000 – 180000 руб.',\n",
       "  'min_salary': 90000,\n",
       "  'max_salary': 180000,\n",
       "  'currency_salary': 'руб.',\n",
       "  'vacancy_link': 'https://hh.ru/vacancy/77446643?from=vacancy_search_list&query=%D0%B0%D0%BD%D0%B0%D0%BB%D0%B8%D1%82%D0%B8%D0%BA+%D0%B1%D0%B0%D0%B7+%D0%B4%D0%B0%D0%BD%D0%BD%D1%8B%D1%85',\n",
       "  'vacancy_source': 'hh.ru'},\n",
       " {'vacancy_name': 'Маркетолог-аналитик',\n",
       "  'vacancy_salary': None,\n",
       "  'min_salary': None,\n",
       "  'max_salary': None,\n",
       "  'currency_salary': None,\n",
       "  'vacancy_link': 'https://hh.ru/vacancy/72668796?from=vacancy_search_list&query=%D0%B0%D0%BD%D0%B0%D0%BB%D0%B8%D1%82%D0%B8%D0%BA+%D0%B1%D0%B0%D0%B7+%D0%B4%D0%B0%D0%BD%D0%BD%D1%8B%D1%85',\n",
       "  'vacancy_source': 'hh.ru'},\n",
       " {'vacancy_name': 'Аналитик 1С / Консультант 1С',\n",
       "  'vacancy_salary': None,\n",
       "  'min_salary': None,\n",
       "  'max_salary': None,\n",
       "  'currency_salary': None,\n",
       "  'vacancy_link': 'https://hh.ru/vacancy/77019393?from=vacancy_search_list&query=%D0%B0%D0%BD%D0%B0%D0%BB%D0%B8%D1%82%D0%B8%D0%BA+%D0%B1%D0%B0%D0%B7+%D0%B4%D0%B0%D0%BD%D0%BD%D1%8B%D1%85',\n",
       "  'vacancy_source': 'hh.ru'},\n",
       " {'vacancy_name': 'Аналитик 1С УПП',\n",
       "  'vacancy_salary': None,\n",
       "  'min_salary': None,\n",
       "  'max_salary': None,\n",
       "  'currency_salary': None,\n",
       "  'vacancy_link': 'https://hh.ru/vacancy/77426733?from=vacancy_search_list&query=%D0%B0%D0%BD%D0%B0%D0%BB%D0%B8%D1%82%D0%B8%D0%BA+%D0%B1%D0%B0%D0%B7+%D0%B4%D0%B0%D0%BD%D0%BD%D1%8B%D1%85',\n",
       "  'vacancy_source': 'hh.ru'},\n",
       " {'vacancy_name': 'Специалист по сопровождению 1С',\n",
       "  'vacancy_salary': None,\n",
       "  'min_salary': None,\n",
       "  'max_salary': None,\n",
       "  'currency_salary': None,\n",
       "  'vacancy_link': 'https://hh.ru/vacancy/77415260?from=vacancy_search_list&query=%D0%B0%D0%BD%D0%B0%D0%BB%D0%B8%D1%82%D0%B8%D0%BA+%D0%B1%D0%B0%D0%B7+%D0%B4%D0%B0%D0%BD%D0%BD%D1%8B%D1%85',\n",
       "  'vacancy_source': 'hh.ru'},\n",
       " {'vacancy_name': 'Консультант 1С:УПП',\n",
       "  'vacancy_salary': None,\n",
       "  'min_salary': None,\n",
       "  'max_salary': None,\n",
       "  'currency_salary': None,\n",
       "  'vacancy_link': 'https://hh.ru/vacancy/77427209?from=vacancy_search_list&query=%D0%B0%D0%BD%D0%B0%D0%BB%D0%B8%D1%82%D0%B8%D0%BA+%D0%B1%D0%B0%D0%B7+%D0%B4%D0%B0%D0%BD%D0%BD%D1%8B%D1%85',\n",
       "  'vacancy_source': 'hh.ru'},\n",
       " {'vacancy_name': 'Разработчик 1С:ЗУП',\n",
       "  'vacancy_salary': None,\n",
       "  'min_salary': None,\n",
       "  'max_salary': None,\n",
       "  'currency_salary': None,\n",
       "  'vacancy_link': 'https://hh.ru/vacancy/77426250?from=vacancy_search_list&query=%D0%B0%D0%BD%D0%B0%D0%BB%D0%B8%D1%82%D0%B8%D0%BA+%D0%B1%D0%B0%D0%B7+%D0%B4%D0%B0%D0%BD%D0%BD%D1%8B%D1%85',\n",
       "  'vacancy_source': 'hh.ru'},\n",
       " {'vacancy_name': 'Ведущий программист',\n",
       "  'vacancy_salary': '19500 – 43000 руб.',\n",
       "  'min_salary': 19500,\n",
       "  'max_salary': 43000,\n",
       "  'currency_salary': 'руб.',\n",
       "  'vacancy_link': 'https://hh.ru/vacancy/76951719?from=vacancy_search_list&query=%D0%B0%D0%BD%D0%B0%D0%BB%D0%B8%D1%82%D0%B8%D0%BA+%D0%B1%D0%B0%D0%B7+%D0%B4%D0%B0%D0%BD%D0%BD%D1%8B%D1%85',\n",
       "  'vacancy_source': 'hh.ru'},\n",
       " {'vacancy_name': '.NET разработчик в команду BIT',\n",
       "  'vacancy_salary': None,\n",
       "  'min_salary': None,\n",
       "  'max_salary': None,\n",
       "  'currency_salary': None,\n",
       "  'vacancy_link': 'https://hh.ru/vacancy/76025767?from=vacancy_search_list&query=%D0%B0%D0%BD%D0%B0%D0%BB%D0%B8%D1%82%D0%B8%D0%BA+%D0%B1%D0%B0%D0%B7+%D0%B4%D0%B0%D0%BD%D0%BD%D1%8B%D1%85',\n",
       "  'vacancy_source': 'hh.ru'},\n",
       " {'vacancy_name': 'Сеньор системный аналитик/архитектор ПО',\n",
       "  'vacancy_salary': '150000 – 300000 руб.',\n",
       "  'min_salary': 150000,\n",
       "  'max_salary': 300000,\n",
       "  'currency_salary': 'руб.',\n",
       "  'vacancy_link': 'https://hh.ru/vacancy/76520049?from=vacancy_search_list&query=%D0%B0%D0%BD%D0%B0%D0%BB%D0%B8%D1%82%D0%B8%D0%BA+%D0%B1%D0%B0%D0%B7+%D0%B4%D0%B0%D0%BD%D0%BD%D1%8B%D1%85',\n",
       "  'vacancy_source': 'hh.ru'},\n",
       " {'vacancy_name': 'Консультант 1С: Бухгалтерия',\n",
       "  'vacancy_salary': None,\n",
       "  'min_salary': None,\n",
       "  'max_salary': None,\n",
       "  'currency_salary': None,\n",
       "  'vacancy_link': 'https://hh.ru/vacancy/76434810?from=vacancy_search_list&query=%D0%B0%D0%BD%D0%B0%D0%BB%D0%B8%D1%82%D0%B8%D0%BA+%D0%B1%D0%B0%D0%B7+%D0%B4%D0%B0%D0%BD%D0%BD%D1%8B%D1%85',\n",
       "  'vacancy_source': 'hh.ru'}]"
      ]
     },
     "execution_count": 7,
     "metadata": {},
     "output_type": "execute_result"
    }
   ],
   "source": [
    "result"
   ]
  },
  {
   "cell_type": "markdown",
   "id": "ab60f6d6",
   "metadata": {},
   "source": [
    "1. Развернуть у себя на компьютере/виртуальной машине/хостинге MongoDB и реализовать функцию, которая будет добавлять только новые вакансии/продукты в вашу базу."
   ]
  },
  {
   "cell_type": "code",
   "execution_count": 8,
   "id": "25943fc4",
   "metadata": {},
   "outputs": [
    {
     "name": "stdout",
     "output_type": "stream",
     "text": [
      "Requirement already satisfied: pymongo in c:\\users\\eburdeynaya\\anaconda3\\lib\\site-packages (4.3.3)\n",
      "Requirement already satisfied: dnspython<3.0.0,>=1.16.0 in c:\\users\\eburdeynaya\\anaconda3\\lib\\site-packages (from pymongo) (2.3.0)\n"
     ]
    }
   ],
   "source": [
    "!pip install pymongo"
   ]
  },
  {
   "cell_type": "code",
   "execution_count": 9,
   "id": "0cfef157",
   "metadata": {},
   "outputs": [],
   "source": [
    "import pymongo\n",
    "from pymongo import MongoClient\n",
    "from pymongo.errors import DuplicateKeyError\n",
    "from pprint import pprint"
   ]
  },
  {
   "cell_type": "code",
   "execution_count": 10,
   "id": "e7029b8f",
   "metadata": {},
   "outputs": [],
   "source": [
    "client = MongoClient('localhost', 27017)"
   ]
  },
  {
   "cell_type": "code",
   "execution_count": 11,
   "id": "33ffc7af",
   "metadata": {},
   "outputs": [
    {
     "name": "stdout",
     "output_type": "stream",
     "text": [
      "['admin', 'config', 'local', 'vacancies_dict']\n"
     ]
    }
   ],
   "source": [
    "print(client.list_database_names()) "
   ]
  },
  {
   "cell_type": "code",
   "execution_count": 12,
   "id": "dbd007b0",
   "metadata": {},
   "outputs": [],
   "source": [
    "db = client.vacancies_dict"
   ]
  },
  {
   "cell_type": "code",
   "execution_count": 13,
   "id": "6943688d",
   "metadata": {},
   "outputs": [],
   "source": [
    "collection = db.vacancies"
   ]
  },
  {
   "cell_type": "code",
   "execution_count": 14,
   "id": "ff2557ba",
   "metadata": {},
   "outputs": [
    {
     "data": {
      "text/plain": [
       "<pymongo.results.DeleteResult at 0x2198e96e9d0>"
      ]
     },
     "execution_count": 14,
     "metadata": {},
     "output_type": "execute_result"
    }
   ],
   "source": [
    "collection.delete_many({})"
   ]
  },
  {
   "cell_type": "code",
   "execution_count": 15,
   "id": "5c9ab756",
   "metadata": {},
   "outputs": [],
   "source": [
    "try:\n",
    "    collection.insert_many(result)\n",
    "except DuplicateKeyError:\n",
    "    print('Объект с _id:\\t%s уже записан в колекцию'%doc['_id'])"
   ]
  },
  {
   "cell_type": "code",
   "execution_count": 16,
   "id": "2755e26f",
   "metadata": {},
   "outputs": [
    {
     "name": "stdout",
     "output_type": "stream",
     "text": [
      "['admin', 'config', 'local', 'vacancies_dict']\n"
     ]
    }
   ],
   "source": [
    "print(client.list_database_names())"
   ]
  },
  {
   "cell_type": "code",
   "execution_count": 17,
   "id": "d2dfaf0a",
   "metadata": {},
   "outputs": [
    {
     "name": "stdout",
     "output_type": "stream",
     "text": [
      "{'_id': ObjectId('63fdd58f0ac570b367b13fbf'),\n",
      " 'currency_salary': 'руб.',\n",
      " 'max_salary': 180000,\n",
      " 'min_salary': 90000,\n",
      " 'vacancy_link': 'https://hh.ru/vacancy/77446643?from=vacancy_search_list&query=%D0%B0%D0%BD%D0%B0%D0%BB%D0%B8%D1%82%D0%B8%D0%BA+%D0%B1%D0%B0%D0%B7+%D0%B4%D0%B0%D0%BD%D0%BD%D1%8B%D1%85',\n",
      " 'vacancy_name': 'ГИС программист (разработка/аналитика/системное '\n",
      "                 'администрирование)',\n",
      " 'vacancy_salary': '90000 – 180000 руб.',\n",
      " 'vacancy_source': 'hh.ru'}\n",
      "{'_id': ObjectId('63fdd58f0ac570b367b13fc0'),\n",
      " 'currency_salary': None,\n",
      " 'max_salary': None,\n",
      " 'min_salary': None,\n",
      " 'vacancy_link': 'https://hh.ru/vacancy/72668796?from=vacancy_search_list&query=%D0%B0%D0%BD%D0%B0%D0%BB%D0%B8%D1%82%D0%B8%D0%BA+%D0%B1%D0%B0%D0%B7+%D0%B4%D0%B0%D0%BD%D0%BD%D1%8B%D1%85',\n",
      " 'vacancy_name': 'Маркетолог-аналитик',\n",
      " 'vacancy_salary': None,\n",
      " 'vacancy_source': 'hh.ru'}\n",
      "{'_id': ObjectId('63fdd58f0ac570b367b13fc1'),\n",
      " 'currency_salary': None,\n",
      " 'max_salary': None,\n",
      " 'min_salary': None,\n",
      " 'vacancy_link': 'https://hh.ru/vacancy/77019393?from=vacancy_search_list&query=%D0%B0%D0%BD%D0%B0%D0%BB%D0%B8%D1%82%D0%B8%D0%BA+%D0%B1%D0%B0%D0%B7+%D0%B4%D0%B0%D0%BD%D0%BD%D1%8B%D1%85',\n",
      " 'vacancy_name': 'Аналитик 1С / Консультант 1С',\n",
      " 'vacancy_salary': None,\n",
      " 'vacancy_source': 'hh.ru'}\n",
      "{'_id': ObjectId('63fdd58f0ac570b367b13fc2'),\n",
      " 'currency_salary': None,\n",
      " 'max_salary': None,\n",
      " 'min_salary': None,\n",
      " 'vacancy_link': 'https://hh.ru/vacancy/77426733?from=vacancy_search_list&query=%D0%B0%D0%BD%D0%B0%D0%BB%D0%B8%D1%82%D0%B8%D0%BA+%D0%B1%D0%B0%D0%B7+%D0%B4%D0%B0%D0%BD%D0%BD%D1%8B%D1%85',\n",
      " 'vacancy_name': 'Аналитик 1С УПП',\n",
      " 'vacancy_salary': None,\n",
      " 'vacancy_source': 'hh.ru'}\n",
      "{'_id': ObjectId('63fdd58f0ac570b367b13fc3'),\n",
      " 'currency_salary': None,\n",
      " 'max_salary': None,\n",
      " 'min_salary': None,\n",
      " 'vacancy_link': 'https://hh.ru/vacancy/77415260?from=vacancy_search_list&query=%D0%B0%D0%BD%D0%B0%D0%BB%D0%B8%D1%82%D0%B8%D0%BA+%D0%B1%D0%B0%D0%B7+%D0%B4%D0%B0%D0%BD%D0%BD%D1%8B%D1%85',\n",
      " 'vacancy_name': 'Специалист по сопровождению 1С',\n",
      " 'vacancy_salary': None,\n",
      " 'vacancy_source': 'hh.ru'}\n",
      "{'_id': ObjectId('63fdd58f0ac570b367b13fc4'),\n",
      " 'currency_salary': None,\n",
      " 'max_salary': None,\n",
      " 'min_salary': None,\n",
      " 'vacancy_link': 'https://hh.ru/vacancy/77427209?from=vacancy_search_list&query=%D0%B0%D0%BD%D0%B0%D0%BB%D0%B8%D1%82%D0%B8%D0%BA+%D0%B1%D0%B0%D0%B7+%D0%B4%D0%B0%D0%BD%D0%BD%D1%8B%D1%85',\n",
      " 'vacancy_name': 'Консультант 1С:УПП',\n",
      " 'vacancy_salary': None,\n",
      " 'vacancy_source': 'hh.ru'}\n",
      "{'_id': ObjectId('63fdd58f0ac570b367b13fc5'),\n",
      " 'currency_salary': None,\n",
      " 'max_salary': None,\n",
      " 'min_salary': None,\n",
      " 'vacancy_link': 'https://hh.ru/vacancy/77426250?from=vacancy_search_list&query=%D0%B0%D0%BD%D0%B0%D0%BB%D0%B8%D1%82%D0%B8%D0%BA+%D0%B1%D0%B0%D0%B7+%D0%B4%D0%B0%D0%BD%D0%BD%D1%8B%D1%85',\n",
      " 'vacancy_name': 'Разработчик 1С:ЗУП',\n",
      " 'vacancy_salary': None,\n",
      " 'vacancy_source': 'hh.ru'}\n",
      "{'_id': ObjectId('63fdd58f0ac570b367b13fc6'),\n",
      " 'currency_salary': 'руб.',\n",
      " 'max_salary': 43000,\n",
      " 'min_salary': 19500,\n",
      " 'vacancy_link': 'https://hh.ru/vacancy/76951719?from=vacancy_search_list&query=%D0%B0%D0%BD%D0%B0%D0%BB%D0%B8%D1%82%D0%B8%D0%BA+%D0%B1%D0%B0%D0%B7+%D0%B4%D0%B0%D0%BD%D0%BD%D1%8B%D1%85',\n",
      " 'vacancy_name': 'Ведущий программист',\n",
      " 'vacancy_salary': '19500 – 43000 руб.',\n",
      " 'vacancy_source': 'hh.ru'}\n",
      "{'_id': ObjectId('63fdd58f0ac570b367b13fc7'),\n",
      " 'currency_salary': None,\n",
      " 'max_salary': None,\n",
      " 'min_salary': None,\n",
      " 'vacancy_link': 'https://hh.ru/vacancy/76025767?from=vacancy_search_list&query=%D0%B0%D0%BD%D0%B0%D0%BB%D0%B8%D1%82%D0%B8%D0%BA+%D0%B1%D0%B0%D0%B7+%D0%B4%D0%B0%D0%BD%D0%BD%D1%8B%D1%85',\n",
      " 'vacancy_name': '.NET разработчик в команду BIT',\n",
      " 'vacancy_salary': None,\n",
      " 'vacancy_source': 'hh.ru'}\n",
      "{'_id': ObjectId('63fdd58f0ac570b367b13fc8'),\n",
      " 'currency_salary': 'руб.',\n",
      " 'max_salary': 300000,\n",
      " 'min_salary': 150000,\n",
      " 'vacancy_link': 'https://hh.ru/vacancy/76520049?from=vacancy_search_list&query=%D0%B0%D0%BD%D0%B0%D0%BB%D0%B8%D1%82%D0%B8%D0%BA+%D0%B1%D0%B0%D0%B7+%D0%B4%D0%B0%D0%BD%D0%BD%D1%8B%D1%85',\n",
      " 'vacancy_name': 'Сеньор системный аналитик/архитектор ПО',\n",
      " 'vacancy_salary': '150000 – 300000 руб.',\n",
      " 'vacancy_source': 'hh.ru'}\n",
      "{'_id': ObjectId('63fdd58f0ac570b367b13fc9'),\n",
      " 'currency_salary': None,\n",
      " 'max_salary': None,\n",
      " 'min_salary': None,\n",
      " 'vacancy_link': 'https://hh.ru/vacancy/76434810?from=vacancy_search_list&query=%D0%B0%D0%BD%D0%B0%D0%BB%D0%B8%D1%82%D0%B8%D0%BA+%D0%B1%D0%B0%D0%B7+%D0%B4%D0%B0%D0%BD%D0%BD%D1%8B%D1%85',\n",
      " 'vacancy_name': 'Консультант 1С: Бухгалтерия',\n",
      " 'vacancy_salary': None,\n",
      " 'vacancy_source': 'hh.ru'}\n"
     ]
    }
   ],
   "source": [
    "for doc in collection.find():\n",
    "    pprint(doc)"
   ]
  },
  {
   "cell_type": "code",
   "execution_count": 18,
   "id": "434377af",
   "metadata": {},
   "outputs": [],
   "source": [
    "def cheak_and_save_vacancies_in_db(vacancies):\n",
    "    for vacancy in vacancies:\n",
    "        if not len(list(collection.find({'vacancy_link': vacancy['vacancy_link']}))):\n",
    "            collection.insert_one(vacancy)"
   ]
  },
  {
   "cell_type": "code",
   "execution_count": 19,
   "id": "589868a7",
   "metadata": {},
   "outputs": [],
   "source": [
    "cheak_and_save_vacancies_in_db(result)"
   ]
  },
  {
   "cell_type": "code",
   "execution_count": 20,
   "id": "be586e18",
   "metadata": {},
   "outputs": [],
   "source": [
    "result_find = list(collection.find())"
   ]
  },
  {
   "cell_type": "code",
   "execution_count": 21,
   "id": "a87afdab",
   "metadata": {},
   "outputs": [
    {
     "data": {
      "text/plain": [
       "11"
      ]
     },
     "execution_count": 21,
     "metadata": {},
     "output_type": "execute_result"
    }
   ],
   "source": [
    "len(result_find)"
   ]
  },
  {
   "cell_type": "markdown",
   "id": "0deebb55",
   "metadata": {},
   "source": [
    "2. Написать функцию, которая производит поиск и выводит на экран вакансии с заработной платой больше введённой суммы (необходимо анализировать оба поля зарплаты). Для тех, кто выполнил задание с Росконтролем - напишите запрос для поиска продуктов с рейтингом не ниже введенного или качеством не ниже введенного (то есть цифра вводится одна, а запрос проверяет оба поля)."
   ]
  },
  {
   "cell_type": "code",
   "execution_count": 22,
   "id": "d7524039",
   "metadata": {},
   "outputs": [],
   "source": [
    "def cheak_vacancy_salary_in_db(database, salary_level):\n",
    "    vacancies = database.find()\n",
    "    for vacancy in vacancies:\n",
    "        if type(vacancy['max_salary']) is int and type(vacancy['min_salary']) is int:\n",
    "            if int(salary_level) < vacancy['max_salary'] or int(salary_level) < vacancy['min_salary']:\n",
    "                pprint('Вакансия %s с зарплатой от %.2f до %.2f' %(vacancy['vacancy_name'],vacancy['min_salary'], vacancy['max_salary']))"
   ]
  },
  {
   "cell_type": "code",
   "execution_count": 23,
   "id": "6df84954",
   "metadata": {},
   "outputs": [
    {
     "name": "stdout",
     "output_type": "stream",
     "text": [
      "('Вакансия ГИС программист (разработка/аналитика/системное администрирование) '\n",
      " 'с зарплатой от 90000.00 до 180000.00')\n",
      "('Вакансия Сеньор системный аналитик/архитектор ПО с зарплатой от 150000.00 до '\n",
      " '300000.00')\n"
     ]
    }
   ],
   "source": [
    "cheak_vacancy_salary_in_db(collection, 80000)"
   ]
  },
  {
   "cell_type": "code",
   "execution_count": null,
   "id": "6c7544e1",
   "metadata": {},
   "outputs": [],
   "source": []
  }
 ],
 "metadata": {
  "kernelspec": {
   "display_name": "Python 3 (ipykernel)",
   "language": "python",
   "name": "python3"
  },
  "language_info": {
   "codemirror_mode": {
    "name": "ipython",
    "version": 3
   },
   "file_extension": ".py",
   "mimetype": "text/x-python",
   "name": "python",
   "nbconvert_exporter": "python",
   "pygments_lexer": "ipython3",
   "version": "3.9.13"
  }
 },
 "nbformat": 4,
 "nbformat_minor": 5
}
